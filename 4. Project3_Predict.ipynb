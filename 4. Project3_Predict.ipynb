{
 "cells": [
  {
   "cell_type": "code",
   "execution_count": 3,
   "metadata": {},
   "outputs": [],
   "source": [
    "import pickle\n",
    "import os\n",
    "import warnings\n",
    "import numpy as np\n",
    "import pandas as pd\n",
    "warnings.filterwarnings('ignore')"
   ]
  },
  {
   "cell_type": "markdown",
   "metadata": {},
   "source": [
    "# 1. Đọc Model"
   ]
  },
  {
   "cell_type": "code",
   "execution_count": 5,
   "metadata": {},
   "outputs": [],
   "source": [
    "# Đọc model\n",
    "import pickle\n",
    "pkl_filename = \"model/Sentiment_model_best.pkl\"\n",
    "with open(pkl_filename, 'rb') as file:\n",
    "    model = pickle.load(file)\n",
    "\n",
    "# doc model CountVectorizer\n",
    "filename = \"model/cv_model.pkl\"\n",
    "with open(filename, 'rb') as file:\n",
    "    cv = pickle.load(file)\n"
   ]
  },
  {
   "cell_type": "markdown",
   "metadata": {},
   "source": [
    "# 2. Dự đoán"
   ]
  },
  {
   "cell_type": "code",
   "execution_count": 6,
   "metadata": {},
   "outputs": [],
   "source": [
    "# X_new = np.array(['Tôi rất kg hài lòng, giao hàng rất chậm, hàng ko đạt chất lượng'])\n",
    "X_new = np.array(['món rất ngon, phục vụ tốt'])\n",
    "X_new = cv.transform(X_new)\n"
   ]
  },
  {
   "cell_type": "code",
   "execution_count": 7,
   "metadata": {},
   "outputs": [
    {
     "data": {
      "text/plain": [
       "array([1], dtype=int64)"
      ]
     },
     "execution_count": 7,
     "metadata": {},
     "output_type": "execute_result"
    }
   ],
   "source": [
    "y_predict = model.predict(X_new)\n",
    "y_predict"
   ]
  },
  {
   "cell_type": "code",
   "execution_count": 8,
   "metadata": {},
   "outputs": [
    {
     "name": "stdout",
     "output_type": "stream",
     "text": [
      "Tích cực\n"
     ]
    }
   ],
   "source": [
    "if y_predict[0]==0:\n",
    "    print('Tiêu cực')\n",
    "else:\n",
    "    print('Tích cực')"
   ]
  },
  {
   "cell_type": "code",
   "execution_count": 15,
   "metadata": {},
   "outputs": [],
   "source": [
    "# X_new = np.array(['Tôi rất kg hài lòng, giao hàng rất chậm, hàng ko đạt chất lượng'])\n",
    "X_new = np.array(['món ăn dở tệ'])\n",
    "X_new = cv.transform(X_new)"
   ]
  },
  {
   "cell_type": "code",
   "execution_count": 16,
   "metadata": {},
   "outputs": [
    {
     "data": {
      "text/plain": [
       "array([0], dtype=int64)"
      ]
     },
     "execution_count": 16,
     "metadata": {},
     "output_type": "execute_result"
    }
   ],
   "source": [
    "y_predict = model.predict(X_new)\n",
    "y_predict"
   ]
  },
  {
   "cell_type": "code",
   "execution_count": 17,
   "metadata": {},
   "outputs": [
    {
     "name": "stdout",
     "output_type": "stream",
     "text": [
      "Tiêu cực\n"
     ]
    }
   ],
   "source": [
    "if y_predict[0]==0:\n",
    "    print('Tiêu cực')\n",
    "else:\n",
    "    print('Tích cực')"
   ]
  },
  {
   "cell_type": "code",
   "execution_count": null,
   "metadata": {},
   "outputs": [],
   "source": []
  }
 ],
 "metadata": {
  "kernelspec": {
   "display_name": "Python 3",
   "language": "python",
   "name": "python3"
  },
  "language_info": {
   "codemirror_mode": {
    "name": "ipython",
    "version": 3
   },
   "file_extension": ".py",
   "mimetype": "text/x-python",
   "name": "python",
   "nbconvert_exporter": "python",
   "pygments_lexer": "ipython3",
   "version": "3.10.0"
  }
 },
 "nbformat": 4,
 "nbformat_minor": 2
}
